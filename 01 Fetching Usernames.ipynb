{
 "cells": [
  {
   "cell_type": "markdown",
   "id": "2dc4d510",
   "metadata": {},
   "source": [
    "## Fetching Usernames\n",
    "\n",
    "Our main dataset has 1.6 million labelled tweets. We will be using dataset to train our models. But, before that, we will be gathering data about some of the users we select and save in this notebook.\n",
    "\n",
    "#### Input File: \n",
    "- 1600k-noemoticons.csv\n",
    "\n",
    "#### Output File:\n",
    "- 01-select-users.csv"
   ]
  },
  {
   "cell_type": "code",
   "execution_count": 1,
   "id": "797c8c27",
   "metadata": {},
   "outputs": [],
   "source": [
    "import pandas as pd\n",
    "import numpy as np\n",
    "from tqdm import tqdm"
   ]
  },
  {
   "cell_type": "code",
   "execution_count": 2,
   "id": "9429bead",
   "metadata": {},
   "outputs": [],
   "source": [
    "# Loading '1600k-noemoticon' dataset...\n",
    "\n",
    "df = pd.read_csv('db/1600k-noemoticon.csv', header=None)\n",
    "df.rename(\n",
    "    columns = {\n",
    "    0: 'SENTIMENT',\n",
    "    1: 'ID',\n",
    "    2: 'DATE',\n",
    "    3: 'QUERY',\n",
    "    4: 'USERNAME',\n",
    "    5: 'TWEET'\n",
    "    }, inplace=True, errors='raise'\n",
    ")\n",
    "\n",
    "df.drop(['DATE', 'QUERY', 'ID'], axis = 1, inplace = True)\n",
    "df['SENTIMENT'] = df['SENTIMENT'].replace([0],'NEG')\n",
    "df['SENTIMENT'] = df['SENTIMENT'].replace([4],'POS')"
   ]
  },
  {
   "cell_type": "code",
   "execution_count": 8,
   "id": "78da7a7b",
   "metadata": {},
   "outputs": [],
   "source": [
    "# Fetch Usernames from df\n",
    "\n",
    "users = []\n",
    "size = 10000\n",
    "\n",
    "for x in range(size) :\n",
    "    users.append(df['USERNAME'][x])\n",
    "\n",
    "for x in range(size) :\n",
    "    users.append(df['USERNAME'][x+800000])\n",
    "    \n",
    "users = list(set(users))"
   ]
  },
  {
   "cell_type": "code",
   "execution_count": 10,
   "id": "f117837f",
   "metadata": {},
   "outputs": [],
   "source": [
    "# Saving Dataset\n",
    "\n",
    "user_df = pd.DataFrame(users, columns = ['USERNAME'])\n",
    "user_df.to_csv('db/01-select-users.csv', index=False)"
   ]
  },
  {
   "cell_type": "code",
   "execution_count": null,
   "id": "4ac1c551",
   "metadata": {},
   "outputs": [],
   "source": []
  }
 ],
 "metadata": {
  "kernelspec": {
   "display_name": "tf_kernel",
   "language": "python",
   "name": "project"
  },
  "language_info": {
   "codemirror_mode": {
    "name": "ipython",
    "version": 3
   },
   "file_extension": ".py",
   "mimetype": "text/x-python",
   "name": "python",
   "nbconvert_exporter": "python",
   "pygments_lexer": "ipython3",
   "version": "3.7.10"
  }
 },
 "nbformat": 4,
 "nbformat_minor": 5
}

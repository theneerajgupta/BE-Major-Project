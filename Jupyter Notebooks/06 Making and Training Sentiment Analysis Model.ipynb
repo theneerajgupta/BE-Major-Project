{
 "cells": [
  {
   "cell_type": "markdown",
   "id": "8712beb1",
   "metadata": {},
   "source": [
    "# File 06: Model Making and Training\n",
    "\n",
    "This file has been the most frustrating and the most fun to make. I'vs tried to simplify everything as much as I could. The dataframe we use to train and evaluate our model in this file is already preprocessed. Therefore, without wasting anytime we move on to creating our tokenizer. The tokenizer has a word limit of 4000 words. This tokenizer is then used to convert tweets into an integer vector(basically an array of numbers). But not all tweets are of the same length. Therefore, we pad the every tweet with 0 to make it all a consistent length. This file, the input_length or the length of the tweet happens to 48. Once the model is trained, we plot the curves for accuracy and loss comparing graphs from training and validation. This will give us an idea of if the model is underfitting, overfitting or needs no adjustment. After saving the graphs, we move on to saving the models with their weights to ensure we can use it whenever we wish to.\n",
    "\n",
    "### Important Values:\n",
    "- max_features = 4000\n",
    "- embed_dim = 128\n",
    "- lstm_out = 196\n",
    "- batch_size = 256\n",
    "- epochs = 10\n",
    "- input_size = 48 -----> maximum length of tweet available in 'X'\n",
    "\n",
    "### Input Files:\n",
    "- 04-train-data.csv\n",
    "\n",
    "### Output Files:\n",
    "- tokenizer.pickle\n",
    "- model-sa/model-cpu.yaml\n",
    "- model-sa/model-gpu.yaml\n",
    "- model-sa/model-weights-cpu.h5\n",
    "- model-sa/model-weights-gpu.h5\n",
    "\n",
    "### Steps:\n",
    "1. load required libraries\n",
    "1. loading the training dataset\n",
    "1. creating the tokenizer\n",
    "1. Creating 'X' and 'Y' arrays\n",
    "1. Spliting 'X' and 'Y' into training and validation datasets\n",
    "1. making cpu-based machine learning model\n",
    "1. training our first model\n",
    "1. making gpu-based machine learning model\n",
    "1. training our second model\n",
    "1. function to test and save the model with weigths\n",
    "1. function to load the model - just in case"
   ]
  },
  {
   "cell_type": "code",
   "execution_count": 1,
   "id": "082aff89",
   "metadata": {},
   "outputs": [
    {
     "name": "stderr",
     "output_type": "stream",
     "text": [
      "Using TensorFlow backend.\n"
     ]
    }
   ],
   "source": [
    "# load required libraries\n",
    "\n",
    "import re\n",
    "import keras\n",
    "import pickle\n",
    "import numpy as np\n",
    "import pandas as pd\n",
    "from matplotlib import pyplot as plt\n",
    "\n",
    "import tensorflow as tf\n",
    "from sklearn.feature_extraction.text import CountVectorizer\n",
    "from sklearn.model_selection import train_test_split\n",
    "from sklearn.utils import resample\n",
    "from sklearn.utils import shuffle\n",
    "from tensorflow.keras.preprocessing.text import Tokenizer\n",
    "from tensorflow.keras.preprocessing.sequence import pad_sequences\n",
    "from tensorflow.keras.models import Sequential\n",
    "from tensorflow.keras.layers import Dense, Embedding, SpatialDropout1D, LSTM\n",
    "from tensorflow.compat.v1.keras.layers import CuDNNLSTM\n",
    "from keras.utils.np_utils import to_categorical\n",
    "\n",
    "from tensorflow.keras.models import save_model, load_model\n",
    "from keras.models import model_from_yaml\n",
    "\n",
    "physical_devices = tf.config.list_physical_devices('GPU')\n",
    "tf.config.experimental.set_memory_growth(physical_devices[0], True)"
   ]
  },
  {
   "cell_type": "code",
   "execution_count": 2,
   "id": "884c97c9",
   "metadata": {},
   "outputs": [],
   "source": [
    "# loading the training dataset\n",
    "\n",
    "data = pd.read_csv('db/04-train-data.csv')\n",
    "data = data[['TEXT', 'SENTIMENT']]\n",
    "data = data.dropna(subset=['TEXT'])\n",
    "data = data.sample(frac=1).reset_index(drop=True)"
   ]
  },
  {
   "cell_type": "code",
   "execution_count": 3,
   "id": "a6e31e07",
   "metadata": {},
   "outputs": [],
   "source": [
    "# creating the tokenizer\n",
    "\n",
    "max_features = 4000\n",
    "tokenizer = Tokenizer(num_words=max_features, split=' ')\n",
    "tokenizer.fit_on_texts(data['TEXT'].values)\n",
    "\n",
    "# saving the tokenizer\n",
    "with open('model-sa/tokenizer.pickle', 'wb') as handle:\n",
    "    pickle.dump(tokenizer, handle, protocol=pickle.HIGHEST_PROTOCOL)\n",
    "\n",
    "# loading the tokenizer\n",
    "# with open('model-sa/tokenizer.pickle', 'rb') as handle:\n",
    "#     new_tokeinzer = pickle.load(handle)"
   ]
  },
  {
   "cell_type": "code",
   "execution_count": 4,
   "id": "23ac64cc",
   "metadata": {},
   "outputs": [],
   "source": [
    "# Creating 'X' and 'Y' arrays\n",
    "\n",
    "X = tokenizer.texts_to_sequences(data['TEXT'].values)\n",
    "X = pad_sequences(X)\n",
    "Y = pd.get_dummies(data['SENTIMENT']).values"
   ]
  },
  {
   "cell_type": "code",
   "execution_count": 5,
   "id": "fd72bfd5",
   "metadata": {},
   "outputs": [],
   "source": [
    "# Spliting 'X' and 'Y' into training and validation datasets\n",
    "\n",
    "X_train, X_test, Y_train, Y_test = train_test_split(X,Y, test_size = 0.20, random_state = 42)\n",
    "X_train = X_train.reshape(1259100, 48)\n",
    "Y_train = Y_train.reshape(1259100, 2)\n",
    "X_test = X_test.reshape(314775, 48)\n",
    "Y_test = Y_test.reshape(314775, 2)"
   ]
  },
  {
   "cell_type": "code",
   "execution_count": 6,
   "id": "2ab15c34",
   "metadata": {},
   "outputs": [
    {
     "name": "stdout",
     "output_type": "stream",
     "text": [
      "Model: \"sequential\"\n",
      "_________________________________________________________________\n",
      "Layer (type)                 Output Shape              Param #   \n",
      "=================================================================\n",
      "embedding (Embedding)        (None, 48, 128)           512000    \n",
      "_________________________________________________________________\n",
      "spatial_dropout1d (SpatialDr (None, 48, 128)           0         \n",
      "_________________________________________________________________\n",
      "lstm (LSTM)                  (None, 48, 196)           254800    \n",
      "_________________________________________________________________\n",
      "spatial_dropout1d_1 (Spatial (None, 48, 196)           0         \n",
      "_________________________________________________________________\n",
      "lstm_1 (LSTM)                (None, 196)               308112    \n",
      "_________________________________________________________________\n",
      "dense (Dense)                (None, 2)                 394       \n",
      "=================================================================\n",
      "Total params: 1,075,306\n",
      "Trainable params: 1,075,306\n",
      "Non-trainable params: 0\n",
      "_________________________________________________________________\n"
     ]
    }
   ],
   "source": [
    "# making cpu-based machine learning model\n",
    "\n",
    "embed_dim = 128\n",
    "lstm_out = 196\n",
    "\n",
    "model1 = Sequential()\n",
    "model1.add(Embedding(max_features, embed_dim, input_length = X.shape[1]))\n",
    "model1.add(SpatialDropout1D(0.4))\n",
    "model1.add(LSTM(lstm_out, dropout=0.2, recurrent_dropout=0.2, return_sequences=True))\n",
    "model1.add(SpatialDropout1D(0.4))\n",
    "model1.add(LSTM(lstm_out, dropout=0.2, recurrent_dropout=0.2))\n",
    "model1.add(Dense(2,activation='softmax'))\n",
    "model1.compile(loss = 'categorical_crossentropy', optimizer='adam',metrics = ['accuracy'])\n",
    "model1.summary()"
   ]
  },
  {
   "cell_type": "code",
   "execution_count": 7,
   "id": "b3cd130c",
   "metadata": {},
   "outputs": [
    {
     "name": "stdout",
     "output_type": "stream",
     "text": [
      "Train on 1007280 samples, validate on 251820 samples\n",
      "Epoch 1/10\n",
      "1007280/1007280 [==============================] - 407s 404us/sample - loss: 0.4770 - accuracy: 0.7715 - val_loss: 0.4550 - val_accuracy: 0.7845\n",
      "Epoch 2/10\n",
      "1007280/1007280 [==============================] - 404s 401us/sample - loss: 0.4548 - accuracy: 0.7847 - val_loss: 0.4493 - val_accuracy: 0.7884\n",
      "Epoch 3/10\n",
      "1007280/1007280 [==============================] - 407s 404us/sample - loss: 0.4472 - accuracy: 0.7891 - val_loss: 0.4441 - val_accuracy: 0.7908\n",
      "Epoch 4/10\n",
      "1007280/1007280 [==============================] - 440s 437us/sample - loss: 0.4416 - accuracy: 0.7923 - val_loss: 0.4416 - val_accuracy: 0.7928\n",
      "Epoch 5/10\n",
      "1007280/1007280 [==============================] - 403s 400us/sample - loss: 0.4369 - accuracy: 0.7948 - val_loss: 0.4412 - val_accuracy: 0.7935\n",
      "Epoch 6/10\n",
      "1007280/1007280 [==============================] - 407s 404us/sample - loss: 0.4332 - accuracy: 0.7971 - val_loss: 0.4383 - val_accuracy: 0.7948\n",
      "Epoch 7/10\n",
      "1007280/1007280 [==============================] - 404s 402us/sample - loss: 0.4300 - accuracy: 0.7991 - val_loss: 0.4382 - val_accuracy: 0.7952\n",
      "Epoch 8/10\n",
      "1007280/1007280 [==============================] - 406s 403us/sample - loss: 0.4271 - accuracy: 0.8007 - val_loss: 0.4377 - val_accuracy: 0.7955\n",
      "Epoch 9/10\n",
      "1007280/1007280 [==============================] - 405s 402us/sample - loss: 0.4247 - accuracy: 0.8021 - val_loss: 0.4384 - val_accuracy: 0.7958\n",
      "Epoch 10/10\n",
      "1007280/1007280 [==============================] - 405s 402us/sample - loss: 0.4221 - accuracy: 0.8037 - val_loss: 0.4385 - val_accuracy: 0.7955\n"
     ]
    }
   ],
   "source": [
    "history1 = model1.fit(X_train, Y_train, epochs = 10, batch_size = 256, verbose = 1, validation_split=0.2)"
   ]
  },
  {
   "cell_type": "code",
   "execution_count": 10,
   "id": "ab5fe64a",
   "metadata": {},
   "outputs": [
    {
     "name": "stdout",
     "output_type": "stream",
     "text": [
      "Model: \"sequential_2\"\n",
      "_________________________________________________________________\n",
      "Layer (type)                 Output Shape              Param #   \n",
      "=================================================================\n",
      "embedding_2 (Embedding)      (None, 48, 128)           512000    \n",
      "_________________________________________________________________\n",
      "spatial_dropout1d_4 (Spatial (None, 48, 128)           0         \n",
      "_________________________________________________________________\n",
      "cu_dnnlstm_2 (CuDNNLSTM)     (None, 48, 196)           255584    \n",
      "_________________________________________________________________\n",
      "spatial_dropout1d_5 (Spatial (None, 48, 196)           0         \n",
      "_________________________________________________________________\n",
      "cu_dnnlstm_3 (CuDNNLSTM)     (None, 196)               308896    \n",
      "_________________________________________________________________\n",
      "dense_2 (Dense)              (None, 2)                 394       \n",
      "=================================================================\n",
      "Total params: 1,076,874\n",
      "Trainable params: 1,076,874\n",
      "Non-trainable params: 0\n",
      "_________________________________________________________________\n"
     ]
    }
   ],
   "source": [
    "# making gpu-based machine learning model\n",
    "\n",
    "embed_dim = 128\n",
    "lstm_out = 196\n",
    "\n",
    "model2 = Sequential()\n",
    "model2.add(Embedding(max_features, embed_dim, input_length = X.shape[1]))\n",
    "model2.add(SpatialDropout1D(0.4))\n",
    "model2.add(CuDNNLSTM(lstm_out, return_sequences=True))\n",
    "model2.add(SpatialDropout1D(0.4))\n",
    "model2.add(CuDNNLSTM(lstm_out))\n",
    "model2.add(Dense(2,activation='softmax'))\n",
    "model2.compile(loss = 'categorical_crossentropy', optimizer='adam',metrics = ['accuracy'])\n",
    "model2.summary()"
   ]
  },
  {
   "cell_type": "code",
   "execution_count": 11,
   "id": "0013f62f",
   "metadata": {},
   "outputs": [
    {
     "name": "stdout",
     "output_type": "stream",
     "text": [
      "Train on 1007280 samples, validate on 251820 samples\n",
      "Epoch 1/10\n",
      "1007280/1007280 [==============================] - 78s 77us/sample - loss: 0.4730 - accuracy: 0.7729 - val_loss: 0.4563 - val_accuracy: 0.7835\n",
      "Epoch 2/10\n",
      "1007280/1007280 [==============================] - 76s 76us/sample - loss: 0.4513 - accuracy: 0.7865 - val_loss: 0.4463 - val_accuracy: 0.7896\n",
      "Epoch 3/10\n",
      "1007280/1007280 [==============================] - 77s 76us/sample - loss: 0.4430 - accuracy: 0.7914 - val_loss: 0.4420 - val_accuracy: 0.7924\n",
      "Epoch 4/10\n",
      "1007280/1007280 [==============================] - 76s 76us/sample - loss: 0.4363 - accuracy: 0.7949 - val_loss: 0.4397 - val_accuracy: 0.7937\n",
      "Epoch 5/10\n",
      "1007280/1007280 [==============================] - 77s 76us/sample - loss: 0.4307 - accuracy: 0.7987 - val_loss: 0.4381 - val_accuracy: 0.7947\n",
      "Epoch 6/10\n",
      "1007280/1007280 [==============================] - 77s 76us/sample - loss: 0.4256 - accuracy: 0.8014 - val_loss: 0.4382 - val_accuracy: 0.7950\n",
      "Epoch 7/10\n",
      "1007280/1007280 [==============================] - 77s 76us/sample - loss: 0.4212 - accuracy: 0.8038 - val_loss: 0.4404 - val_accuracy: 0.7951\n",
      "Epoch 8/10\n",
      "1007280/1007280 [==============================] - 77s 76us/sample - loss: 0.4171 - accuracy: 0.8064 - val_loss: 0.4370 - val_accuracy: 0.7956\n",
      "Epoch 9/10\n",
      "1007280/1007280 [==============================] - 77s 76us/sample - loss: 0.4133 - accuracy: 0.8084 - val_loss: 0.4380 - val_accuracy: 0.7958\n",
      "Epoch 10/10\n",
      "1007280/1007280 [==============================] - 77s 76us/sample - loss: 0.4095 - accuracy: 0.8104 - val_loss: 0.4386 - val_accuracy: 0.7951\n"
     ]
    }
   ],
   "source": [
    "history2 = model2.fit(X_train, Y_train, epochs = 10, batch_size = 256, verbose = 1, validation_split=0.2)"
   ]
  },
  {
   "cell_type": "code",
   "execution_count": 12,
   "id": "4e199a61",
   "metadata": {},
   "outputs": [
    {
     "data": {
      "image/png": "[encoded data removed]",
      "text/plain": [
       "<Figure size 432x288 with 1 Axes>"
      ]
     },
     "metadata": {
      "needs_background": "light"
     },
     "output_type": "display_data"
    },
    {
     "data": {
      "image/png": "[encoded data removed]",
      "text/plain": [
       "<Figure size 432x288 with 1 Axes>"
      ]
     },
     "metadata": {
      "needs_background": "light"
     },
     "output_type": "display_data"
    }
   ],
   "source": [
    "# function to save accuracy graphs\n",
    "\n",
    "def save_accuracy_plot(history, name=\"accuracy.png\") :\n",
    "    plt.plot(history.history['accuracy'])\n",
    "    plt.plot(history.history['val_accuracy'])\n",
    "    plt.title('model accuracy')\n",
    "    plt.ylabel('accuracy')\n",
    "    plt.xlabel('epoch')\n",
    "    plt.legend(['train', 'val'], loc='upper left')\n",
    "    plt.savefig(name)\n",
    "    plt.show()\n",
    "    \n",
    "save_accuracy_plot(history1, \"graphs/cpu-accuracy.png\")\n",
    "save_accuracy_plot(history2, \"graphs/gpu-accuracy.png\")"
   ]
  },
  {
   "cell_type": "code",
   "execution_count": 13,
   "id": "63257256",
   "metadata": {},
   "outputs": [
    {
     "data": {
      "image/png": "[encoded data removed]",
      "text/plain": [
       "<Figure size 432x288 with 1 Axes>"
      ]
     },
     "metadata": {
      "needs_background": "light"
     },
     "output_type": "display_data"
    },
    {
     "data": {
      "image/png": "[encoded data removed]",
      "text/plain": [
       "<Figure size 432x288 with 1 Axes>"
      ]
     },
     "metadata": {
      "needs_background": "light"
     },
     "output_type": "display_data"
    }
   ],
   "source": [
    "# function to save loss graphs\n",
    "\n",
    "def save_loss_plot(history, name=\"loss.png\") :\n",
    "    plt.plot(history.history['loss'])\n",
    "    plt.plot(history.history['val_loss'])\n",
    "    plt.title('model loss')\n",
    "    plt.ylabel('loss')\n",
    "    plt.xlabel('epoch')\n",
    "    plt.legend(['train', 'val'], loc='upper left')\n",
    "    plt.savefig(name)\n",
    "    plt.show()\n",
    "    \n",
    "save_loss_plot(history1, \"graphs/cpu-loss.png\")\n",
    "save_loss_plot(history2, \"graphs/gpu-loss.png\")"
   ]
  },
  {
   "cell_type": "code",
   "execution_count": 14,
   "id": "1df2fb4a",
   "metadata": {},
   "outputs": [
    {
     "name": "stdout",
     "output_type": "stream",
     "text": [
      "314775/314775 [==============================] - 201s 640us/sample - loss: 0.4403 - accuracy: 0.7944\n",
      "Evaluation Results :\n",
      "Loss    : 0.44027372315522456\n",
      "Accuracy: 0.7944214344024658\n",
      "\n",
      "314775/314775 [==============================] - 38s 120us/sample - loss: 0.4410 - accuracy: 0.7944\n",
      "Evaluation Results :\n",
      "Loss    : 0.4409663168700994\n",
      "Accuracy: 0.7944404482841492\n",
      "\n"
     ]
    }
   ],
   "source": [
    "# function to test and save the model with weigths\n",
    "\n",
    "def test_and_save(model, name) :\n",
    "    \n",
    "    # test model\n",
    "    score = model.evaluate(X_test, Y_test, verbose=1)\n",
    "    print(f\"Evaluation Results :\")\n",
    "    print(f\"Loss    : {score[0]}\")\n",
    "    print(f\"Accuracy: {score[1]}\\n\")\n",
    "    \n",
    "    # saving model as a yaml file\n",
    "    yaml = model.to_yaml()\n",
    "    with open(\"\".join([\"model-sa/model-\", name, \".yaml\"]), 'w') as file:\n",
    "        file.write(yaml)\n",
    "      \n",
    "    # saving model weights\n",
    "    model.save_weights(\"\".join([\"model-sa/weights-\", name, \".h5\"]))\n",
    "    \n",
    "    \n",
    "test_and_save(model1, \"cpu\")\n",
    "test_and_save(model2, \"gpu\")"
   ]
  },
  {
   "cell_type": "code",
   "execution_count": 15,
   "id": "36be21b6",
   "metadata": {},
   "outputs": [],
   "source": [
    "# function to load the model - just in case\n",
    "\n",
    "def load_model(model, weight) :\n",
    "    with open(model, 'r') as file:\n",
    "        yaml_model = file.read()\n",
    "    \n",
    "    model = tf.keras.models.model_from_yaml(yaml_model)\n",
    "    model.load_weights(weight)\n",
    "    model.compile(loss='categorical_crossentropy', optimizer='adam', metrics=['accuracy'])\n",
    "    \n",
    "    return model\n",
    "\n",
    "# loaded1 = load_model(\n",
    "#     \"model-sa/model-yaml-cpu.yaml\", \n",
    "#     \"model-sa/model-weights-cpu.h5\"\n",
    "# )\n",
    "\n",
    "# loaded2 = load_model(\n",
    "#     \"model-sa/model-yaml-gpu.yaml\", \n",
    "#     \"model-sa/model-weights-gpu.h5\"\n",
    "# )"
   ]
  },
  {
   "cell_type": "code",
   "execution_count": 16,
   "id": "7e01fb46",
   "metadata": {},
   "outputs": [],
   "source": [
    "# loaded1.evaluate(X_test[:1000], Y_test[:1000], verbose=1)\n",
    "# loaded2.evaluate(X_test[:1000], Y_test[:1000], verbose=1)"
   ]
  },
  {
   "cell_type": "code",
   "execution_count": null,
   "id": "17bdfd7c",
   "metadata": {},
   "outputs": [],
   "source": []
  }
 ],
 "metadata": {
  "kernelspec": {
   "display_name": "tf_kernel",
   "language": "python",
   "name": "project"
  },
  "language_info": {
   "codemirror_mode": {
    "name": "ipython",
    "version": 3
   },
   "file_extension": ".py",
   "mimetype": "text/x-python",
   "name": "python",
   "nbconvert_exporter": "python",
   "pygments_lexer": "ipython3",
   "version": "3.7.10"
  }
 },
 "nbformat": 4,
 "nbformat_minor": 5
}

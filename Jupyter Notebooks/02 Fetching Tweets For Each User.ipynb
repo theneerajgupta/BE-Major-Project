{
 "cells": [
  {
   "cell_type": "markdown",
   "id": "e038aeb9",
   "metadata": {},
   "source": [
    "# File 02: Fetching Tweets For Each User\n",
    "\n",
    "In this file we shall be using the 'Twitter API' for fetching tweets from users that we selected in the previous file. This data will further be used to infer the tendency of the user to say something positive or negative.\n",
    "\n",
    "### Input File:\n",
    "- 01-select-users.csv -----> contains selected usernames from '1600k-emoticons.csv' dataframe\n",
    "\n",
    "### Output File:\n",
    "- 02-user-tweets.csv ------> contains tweets from timeline for usernames dataframe\n",
    "\n",
    "### Steps:\n",
    "1. Load Usernames\n",
    "2. Load API\n",
    "3. Create Function 'Twitter User' that would\n",
    "    1. Get UserID from Username\n",
    "    2. Make Fuction 'get_tweets':\n",
    "        1. Fetches Tweets from Timeline\n",
    "        2. Extracts the tweets from the query and save it in an array\n",
    "        3. Returns the list of tweets\n",
    "4. Apply 'get_tweets' function on every single 'Username' in the loaded dataframe\n",
    "5. Save the dataset as '02-user-tweets.csv'"
   ]
  },
  {
   "cell_type": "code",
   "execution_count": 3,
   "id": "5c0b1a7b",
   "metadata": {},
   "outputs": [],
   "source": [
    "# Loading all Libraries\n",
    "\n",
    "import pandas as pd\n",
    "import numpy as np\n",
    "import tweepy\n",
    "from tweepy import OAuthHandler\n",
    "from tqdm import tqdm"
   ]
  },
  {
   "cell_type": "code",
   "execution_count": 6,
   "id": "43bc4cf8",
   "metadata": {},
   "outputs": [],
   "source": [
    "# loading dataframe containing all usernames\n",
    "\n",
    "df = pd.read_csv('db/01-select-users.csv')\n",
    "df['TWEET'] = None"
   ]
  },
  {
   "cell_type": "code",
   "execution_count": 9,
   "id": "7b3335bb",
   "metadata": {},
   "outputs": [
    {
     "name": "stdout",
     "output_type": "stream",
     "text": [
      "Authentication Successful!\n"
     ]
    }
   ],
   "source": [
    "# setting up Twitter API using 'Tweepy'\n",
    "\n",
    "consumer_key = 'e3quFb7yTv8RJBfJtcsH172ey'\n",
    "consumer_secret =  'SI8hYfTDQ6t90DVzk8saJlbp3Frz9eo0IWW9qCBK5JzgLj4ofa'\n",
    "access_token = '724078891384582144-KG0kZkal2PbRFiXOQva8Uatull9qVRx'\n",
    "access_token_secret = 'JWZlsm0KYB4vkjzc2CuJOkVaoym0L2Ts2lK9bBhSRMm3t'\n",
    "try :\n",
    "    auth = tweepy.OAuthHandler(consumer_key, consumer_secret)\n",
    "    auth.set_access_token(access_token, access_token_secret)\n",
    "    api = tweepy.API(auth)\n",
    "    print(\"Authentication Successful!\")\n",
    "except :\n",
    "    print(\"Authentication Failed!\")"
   ]
  },
  {
   "cell_type": "code",
   "execution_count": 14,
   "id": "f99de8e7",
   "metadata": {},
   "outputs": [],
   "source": [
    "# create function to fetch tweets\n",
    "\n",
    "class Twitter_User():\n",
    "\n",
    "    def __init__(self,username,count=200):\n",
    "        self.id = api.get_user(username).id\n",
    "        self.username = username\n",
    "        self.count = count\n",
    "        self.data = None\n",
    "\n",
    "    def get_tweets(self):\n",
    "        store_tweets = api.user_timeline(self.id, count=self.count)\n",
    "        simple_list = []\n",
    "        for status in store_tweets:\n",
    "            array = [status._json[\"text\"].strip(), status._json[\"favorite_count\"], status._json[\"created_at\"],status._json[\"retweet_count\"],[h[\"text\"] for h in status._json[\"entities\"][\"hashtags\"]]]\n",
    "            simple_list.append(array)\n",
    "        self.data = pd.DataFrame(simple_list, columns=[\"Text\", \"Like\", \"Created at\",\"Retweet\",\"Hashtags\"])\n",
    "        self.data = self.data[~self.data[\"Text\"].str.startswith('RT')]\n",
    "        return self.data\n",
    "\n",
    "\n",
    "    def __repr__(self):\n",
    "        id = api.get_user(self.id)\n",
    "        return id.screen_name\n",
    "    \n",
    "def fetch_tweets(username) :\n",
    "    user = Twitter_User(username)\n",
    "    tweets = user.get_tweets()\n",
    "    for tweet in tweets['Text']:\n",
    "        all_tweets.loc[len(all_tweets.index)] = [username, tweet]\n",
    "        \n",
    "all_tweets = pd.DataFrame(columns = ['USERNAME', 'TWEETS'])\n",
    "all_tweets = all_tweets[0:0]"
   ]
  },
  {
   "cell_type": "code",
   "execution_count": null,
   "id": "7ced1c4e",
   "metadata": {},
   "outputs": [],
   "source": [
    "# Fetching Tweets for Each User\n",
    "\n",
    "failed = []\n",
    "for user in tqdm(df['USERNAME']) :\n",
    "    try :\n",
    "        fetch_tweets(user)\n",
    "    except :\n",
    "        failed.append(user)"
   ]
  },
  {
   "cell_type": "code",
   "execution_count": null,
   "id": "e660a2bc",
   "metadata": {},
   "outputs": [],
   "source": [
    "# Analyzing Fetched Data\n",
    "\n",
    "# print(len(failed))\n",
    "# print(failed)\n",
    "# counts = []\n",
    "# for user in all_tweets['USERNAME']:\n",
    "#     counts.append(user)\n",
    "# len(counts)\n",
    "# my_dict = {i:counts.count(i) for i in counts}\n",
    "# print(my_dict)\n",
    "# all_tweets.head()"
   ]
  },
  {
   "cell_type": "code",
   "execution_count": null,
   "id": "ae15cb82",
   "metadata": {},
   "outputs": [],
   "source": [
    "# Saving Dataset\n",
    "\n",
    "all_tweets.to_csv('db/02-user-tweets.csv', index=False)\n",
    "# print(f\"TOTAL NUMBER OF USERS: {len(df) - len(failed)}\")"
   ]
  }
 ],
 "metadata": {
  "kernelspec": {
   "display_name": "tf_kernel",
   "language": "python",
   "name": "project"
  },
  "language_info": {
   "codemirror_mode": {
    "name": "ipython",
    "version": 3
   },
   "file_extension": ".py",
   "mimetype": "text/x-python",
   "name": "python",
   "nbconvert_exporter": "python",
   "pygments_lexer": "ipython3",
   "version": "3.7.10"
  }
 },
 "nbformat": 4,
 "nbformat_minor": 5
}

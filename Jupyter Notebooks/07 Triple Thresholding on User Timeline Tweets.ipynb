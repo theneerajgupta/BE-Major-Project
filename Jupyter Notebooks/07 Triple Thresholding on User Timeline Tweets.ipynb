{
 "cells": [
  {
   "cell_type": "markdown",
   "id": "ead2d51c",
   "metadata": {},
   "source": [
    "# File 07: Applying Triple Thresholding on User Timeline Tweets\n",
    "\n",
    "\n",
    "### Input Files :\n",
    "- model-sa/model-gpu.yaml\n",
    "- model-sa/model-weights-gpu.h5\n",
    "- model-sa/tokenizer.pickle\n",
    "- db/05-shortlisted-tweets.csv\n",
    "- db/05-shortlisted-usernames.csv\n",
    "\n",
    "### Output File:\n",
    "- db/07-timeline-tweets-with-thresholding.csv\n",
    "\n",
    "### Steps:\n",
    "1. loading required libraries\n",
    "1. loading model with weights\n",
    "1. loading the tokenizer\n",
    "1. loading timeline tweets\n",
    "1. creating \"X\" array \n",
    "1. using the model to pred sentiment of each tweet\n",
    "1. applying triple thresholding to avoid amibuity\n",
    "1. update the main dataframe\n",
    "1. get usernames from shortlisted-username dataframe\n",
    "1. make list of sentiment and thresholded-sentiment for all the users\n",
    "1. filter out users with less than 100 tweets\n",
    "1. creating final user dataframe\n",
    "1. saving final dataframe"
   ]
  },
  {
   "cell_type": "code",
   "execution_count": 88,
   "id": "6cf3e073",
   "metadata": {},
   "outputs": [],
   "source": [
    "# loading required libraries\n",
    "import pickle\n",
    "import numpy as np\n",
    "import pandas as pd\n",
    "from tqdm import tqdm\n",
    "import tensorflow as tf\n",
    "from tqdm import tqdm\n",
    "import matplotlib.pyplot as plt\n",
    "from tensorflow.keras.models import load_model\n",
    "from keras.models import model_from_yaml\n",
    "from tensorflow.keras.preprocessing.text import Tokenizer\n",
    "from tensorflow.keras.preprocessing.sequence import pad_sequences\n",
    "\n",
    "physical_devices = tf.config.list_physical_devices('GPU')\n",
    "tf.config.experimental.set_memory_growth(physical_devices[0], True)"
   ]
  },
  {
   "cell_type": "code",
   "execution_count": 71,
   "id": "15fdc437",
   "metadata": {},
   "outputs": [
    {
     "name": "stderr",
     "output_type": "stream",
     "text": [
      "C:\\Users\\Artemis\\miniconda3\\envs\\project\\lib\\site-packages\\tensorflow_core\\python\\keras\\saving\\model_config.py:76: YAMLLoadWarning: calling yaml.load() without Loader=... is deprecated, as the default Loader is unsafe. Please read https://msg.pyyaml.org/load for full details.\n",
      "  config = yaml.load(yaml_string)\n"
     ]
    },
    {
     "name": "stdout",
     "output_type": "stream",
     "text": [
      "Model: \"sequential_2\"\n",
      "_________________________________________________________________\n",
      "Layer (type)                 Output Shape              Param #   \n",
      "=================================================================\n",
      "embedding_2 (Embedding)      (None, 48, 128)           512000    \n",
      "_________________________________________________________________\n",
      "spatial_dropout1d_4 (Spatial (None, 48, 128)           0         \n",
      "_________________________________________________________________\n",
      "cu_dnnlstm_2 (CuDNNLSTM)     (None, 48, 196)           255584    \n",
      "_________________________________________________________________\n",
      "spatial_dropout1d_5 (Spatial (None, 48, 196)           0         \n",
      "_________________________________________________________________\n",
      "cu_dnnlstm_3 (CuDNNLSTM)     (None, 196)               308896    \n",
      "_________________________________________________________________\n",
      "dense_2 (Dense)              (None, 2)                 394       \n",
      "=================================================================\n",
      "Total params: 1,076,874\n",
      "Trainable params: 1,076,874\n",
      "Non-trainable params: 0\n",
      "_________________________________________________________________\n"
     ]
    }
   ],
   "source": [
    "# loading model with weights\n",
    "def load_model(model, weight) :\n",
    "    with open(model, 'r') as file:\n",
    "        yaml_model = file.read()\n",
    "    \n",
    "    model = tf.keras.models.model_from_yaml(yaml_model)\n",
    "    model.compile(loss='categorical_crossentropy', optimizer='adam', metrics=['accuracy'])\n",
    "    model.load_weights(weight)\n",
    "    \n",
    "    return model\n",
    "\n",
    "model = load_model('model-sa/model-gpu.yaml', 'model-sa/model-weights-gpu.h5')\n",
    "model.summary()"
   ]
  },
  {
   "cell_type": "code",
   "execution_count": 132,
   "id": "918fa170",
   "metadata": {},
   "outputs": [],
   "source": [
    "# loading the tokenizer\n",
    "with open('model-sa/tokenizer.pickle', 'rb') as handle:\n",
    "    tokenizer = pickle.load(handle)"
   ]
  },
  {
   "cell_type": "code",
   "execution_count": 133,
   "id": "d596fb0e",
   "metadata": {},
   "outputs": [],
   "source": [
    "# loading timeline tweets\n",
    "df = pd.read_csv(\"db/05-shortlisted-tweets.csv\")"
   ]
  },
  {
   "cell_type": "code",
   "execution_count": 134,
   "id": "0b1dd116",
   "metadata": {},
   "outputs": [],
   "source": [
    "# creating \"X\" array \n",
    "X = tokenizer.texts_to_sequences(df['TWEET'].values)\n",
    "X = pad_sequences(X, 48)"
   ]
  },
  {
   "cell_type": "code",
   "execution_count": 135,
   "id": "b7df271d",
   "metadata": {},
   "outputs": [],
   "source": [
    "# using the model to pred sentiment of each tweet\n",
    "output = model.predict(X)\n",
    "C = model.predict_classes(X)"
   ]
  },
  {
   "cell_type": "code",
   "execution_count": 142,
   "id": "45c447ba",
   "metadata": {},
   "outputs": [],
   "source": [
    "# applying triple thresholding to avoid amibuity\n",
    "triple = []\n",
    "Y = []\n",
    "for value in output :\n",
    "    Y.append(value[1])\n",
    "    if value[1] < 0.25 :\n",
    "        triple.append(0)\n",
    "    elif value[1] < 0.5 :\n",
    "        triple.append(1)\n",
    "    elif value[1] < 0.75 :\n",
    "        triple.append(2)\n",
    "    elif value[1] <= 1 :\n",
    "        triple.append(3)"
   ]
  },
  {
   "cell_type": "code",
   "execution_count": 152,
   "id": "2cf729bf",
   "metadata": {},
   "outputs": [
    {
     "data": {
      "text/html": [
       "<div>\n",
       "<style scoped>\n",
       "    .dataframe tbody tr th:only-of-type {\n",
       "        vertical-align: middle;\n",
       "    }\n",
       "\n",
       "    .dataframe tbody tr th {\n",
       "        vertical-align: top;\n",
       "    }\n",
       "\n",
       "    .dataframe thead th {\n",
       "        text-align: right;\n",
       "    }\n",
       "</style>\n",
       "<table border=\"1\" class=\"dataframe\">\n",
       "  <thead>\n",
       "    <tr style=\"text-align: right;\">\n",
       "      <th></th>\n",
       "      <th>USER</th>\n",
       "      <th>TWEET</th>\n",
       "      <th>PREDICTION</th>\n",
       "      <th>SENTIMENT</th>\n",
       "      <th>TRIPLE_THRESH</th>\n",
       "    </tr>\n",
       "  </thead>\n",
       "  <tbody>\n",
       "    <tr>\n",
       "      <th>0</th>\n",
       "      <td>TLeC</td>\n",
       "      <td>Do like happy endings Our Story About Finding ...</td>\n",
       "      <td>0.770715</td>\n",
       "      <td>1</td>\n",
       "      <td>3</td>\n",
       "    </tr>\n",
       "    <tr>\n",
       "      <th>1</th>\n",
       "      <td>TLeC</td>\n",
       "      <td>Sharing story helping Sally find new home Stor...</td>\n",
       "      <td>0.746607</td>\n",
       "      <td>1</td>\n",
       "      <td>2</td>\n",
       "    </tr>\n",
       "    <tr>\n",
       "      <th>2</th>\n",
       "      <td>TLeC</td>\n",
       "      <td>Words image boost caregivers life Inspiring Qu...</td>\n",
       "      <td>0.935224</td>\n",
       "      <td>1</td>\n",
       "      <td>3</td>\n",
       "    </tr>\n",
       "    <tr>\n",
       "      <th>3</th>\n",
       "      <td>TLeC</td>\n",
       "      <td>Our continuing saga reading pleasure Story Abo...</td>\n",
       "      <td>0.788391</td>\n",
       "      <td>1</td>\n",
       "      <td>3</td>\n",
       "    </tr>\n",
       "    <tr>\n",
       "      <th>4</th>\n",
       "      <td>TLeC</td>\n",
       "      <td>To leave leave New Blog Post What If Your Agin...</td>\n",
       "      <td>0.620331</td>\n",
       "      <td>1</td>\n",
       "      <td>2</td>\n",
       "    </tr>\n",
       "  </tbody>\n",
       "</table>\n",
       "</div>"
      ],
      "text/plain": [
       "   USER                                              TWEET  PREDICTION  \\\n",
       "0  TLeC  Do like happy endings Our Story About Finding ...    0.770715   \n",
       "1  TLeC  Sharing story helping Sally find new home Stor...    0.746607   \n",
       "2  TLeC  Words image boost caregivers life Inspiring Qu...    0.935224   \n",
       "3  TLeC  Our continuing saga reading pleasure Story Abo...    0.788391   \n",
       "4  TLeC  To leave leave New Blog Post What If Your Agin...    0.620331   \n",
       "\n",
       "   SENTIMENT  TRIPLE_THRESH  \n",
       "0          1              3  \n",
       "1          1              2  \n",
       "2          1              3  \n",
       "3          1              3  \n",
       "4          1              2  "
      ]
     },
     "execution_count": 152,
     "metadata": {},
     "output_type": "execute_result"
    }
   ],
   "source": [
    "# update the main dataframe\n",
    "df = pd.DataFrame(\n",
    "    list(zip( df.USER.values.tolist(), df.TWEET.values.tolist(), Y, C, triple )),\n",
    "    columns = [ 'USER', 'TWEET', 'PREDICTION', 'SENTIMENT',  'TRIPLE_THRESH' ]\n",
    ")\n",
    "df.head()"
   ]
  },
  {
   "cell_type": "code",
   "execution_count": 185,
   "id": "7de45097",
   "metadata": {},
   "outputs": [],
   "source": [
    "# get usernames from shortlisted-username dataframe\n",
    "user = pd.read_csv(\"db/05-shortlisted-usernames.csv\")\n",
    "user = user.USER.values.tolist()"
   ]
  },
  {
   "cell_type": "code",
   "execution_count": 186,
   "id": "1a010e66",
   "metadata": {},
   "outputs": [
    {
     "name": "stderr",
     "output_type": "stream",
     "text": [
      "100%|███████████████████████████████████████████████████████████████████████████████████████████████████████████████████████████████████████████████████████████████████████████████████████████████████| 5370/5370 [03:03<00:00, 29.25it/s]\n"
     ]
    }
   ],
   "source": [
    "# make list of sentiment and thresholded-sentiment for all the users\n",
    "index = []\n",
    "count = []\n",
    "for name in tqdm(user) :\n",
    "    array = list(df.loc[df['USER'] == name].index)\n",
    "    index.append(array)\n",
    "    count.append(len(array))"
   ]
  },
  {
   "cell_type": "code",
   "execution_count": 187,
   "id": "af9bb7ba",
   "metadata": {},
   "outputs": [],
   "source": [
    "# filter out users with less than 100 tweets\n",
    "temp = pd.DataFrame(list(zip(user, count)), columns=['USER', 'COUNT'])\n",
    "temp = temp.drop(list(temp.loc[temp['COUNT'] < 100].index))"
   ]
  },
  {
   "cell_type": "code",
   "execution_count": 194,
   "id": "d638ec14",
   "metadata": {},
   "outputs": [
    {
     "name": "stderr",
     "output_type": "stream",
     "text": [
      "100%|███████████████████████████████████████████████████████████████████████████████████████████████████████████████████████████████████████████████████████████████████████████████████████████████████| 4912/4912 [02:47<00:00, 29.30it/s]\n"
     ]
    }
   ],
   "source": [
    "# creating final user dataframe\n",
    "triple = []\n",
    "sentiment = []\n",
    "usernames = temp.USER.values.tolist()\n",
    "for name in tqdm(usernames) :\n",
    "    frame = df.loc[df['USER'] == name]\n",
    "    sentiment.append(frame.SENTIMENT.values.tolist())\n",
    "    triple.append(frame.TRIPLE_THRESH.values.tolist())"
   ]
  },
  {
   "cell_type": "code",
   "execution_count": 202,
   "id": "ae24585c",
   "metadata": {},
   "outputs": [],
   "source": [
    "# saving final dataframe\n",
    "final = pd.DataFrame(\n",
    "    list(zip(temp.USER.values.tolist(), sentiment, triple)),\n",
    "    columns = ['USER', 'SENTIMENT', 'TRIPLE_THRESH']\n",
    ")\n",
    "final.to_csv('db/07-timeline-tweets-with-thresholding.csv', index=False)"
   ]
  },
  {
   "cell_type": "code",
   "execution_count": null,
   "id": "b0c018e5",
   "metadata": {},
   "outputs": [],
   "source": []
  }
 ],
 "metadata": {
  "kernelspec": {
   "display_name": "tf_kernel",
   "language": "python",
   "name": "project"
  },
  "language_info": {
   "codemirror_mode": {
    "name": "ipython",
    "version": 3
   },
   "file_extension": ".py",
   "mimetype": "text/x-python",
   "name": "python",
   "nbconvert_exporter": "python",
   "pygments_lexer": "ipython3",
   "version": "3.7.10"
  }
 },
 "nbformat": 4,
 "nbformat_minor": 5
}

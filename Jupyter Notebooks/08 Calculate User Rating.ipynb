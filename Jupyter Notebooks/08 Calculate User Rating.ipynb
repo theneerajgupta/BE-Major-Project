{
 "cells": [
  {
   "cell_type": "markdown",
   "id": "c87962bf",
   "metadata": {},
   "source": [
    "# FIle 08: Calculating User Rating\n",
    "\n",
    "### Input Files:\n",
    "- db/07-timeline-tweets-with-thresholding.csv\n",
    "\n",
    "### Output Files:\n",
    "- db/08-user-rating.csv\n",
    "\n",
    "### Steps:\n",
    "1. import required libraries\n",
    "1. loading preprocessed dataset\n",
    "1. convert strings into a integer array\n",
    "1. create function to rate the user\n",
    "1. caluclate user rating\n",
    "1. create dataframe\n",
    "1. save dataframe\n"
   ]
  },
  {
   "cell_type": "code",
   "execution_count": 1,
   "id": "fffcbeb8",
   "metadata": {},
   "outputs": [],
   "source": [
    "# import required libraries\n",
    "import numpy as np\n",
    "import pandas as pd\n",
    "from tqdm import tqdm\n",
    "import matplotlib.pyplot as plt"
   ]
  },
  {
   "cell_type": "code",
   "execution_count": 3,
   "id": "2663ca2d",
   "metadata": {},
   "outputs": [],
   "source": [
    "# loading preprocessed dataset...\n",
    "users = pd.read_csv(\"db/07-timeline-tweets-with-thresholding.csv\")\n",
    "users = users.values.tolist()"
   ]
  },
  {
   "cell_type": "code",
   "execution_count": 19,
   "id": "c3a44d63",
   "metadata": {},
   "outputs": [],
   "source": [
    "# convert strings into a integer array\n",
    "username = []\n",
    "sentiment = []\n",
    "threshold = []\n",
    "for row in users :\n",
    "    username.append(row[0])\n",
    "    sentiment.append([ int(val) for val in row[1][1:-1].split(\", \") ])\n",
    "    threshold.append([ int(val) for val in row[2][1:-1].split(\", \") ])"
   ]
  },
  {
   "cell_type": "code",
   "execution_count": 80,
   "id": "06396702",
   "metadata": {},
   "outputs": [],
   "source": [
    "# create function to rate the user\n",
    "def plot_values(index) :\n",
    "    senti = sentiment[index]\n",
    "    thresh = threshold[index]\n",
    "    matrix = [\n",
    "        [0, 0, 0, 0],\n",
    "        [0, 0, 0, 0]\n",
    "    ]\n",
    "\n",
    "    for x in range(len(senti)) :\n",
    "        matrix[senti[x]][thresh[x]] += 1\n",
    "\n",
    "#     calc = sum(matrix[1]) - sum(matrix[0])\n",
    "    calc = ((matrix[0][3] + matrix[1][3] - matrix[0][0] - matrix[1][0]) + (matrix[0][2] + matrix[1][2] - matrix[0][1] - matrix[1][1])) / 2.0\n",
    "    \n",
    "    if calc > 0 :\n",
    "        return 1\n",
    "    else :\n",
    "        return 0"
   ]
  },
  {
   "cell_type": "code",
   "execution_count": 81,
   "id": "10d65c02",
   "metadata": {},
   "outputs": [],
   "source": [
    "# caluclate user rating\n",
    "results = []\n",
    "for x in range(len(users)) :\n",
    "    results.append(plot_values(x))"
   ]
  },
  {
   "cell_type": "code",
   "execution_count": 83,
   "id": "443e59e5",
   "metadata": {},
   "outputs": [],
   "source": [
    "# create dataframe\n",
    "final = pd.DataFrame(\n",
    "    list(zip(pd.read_csv(\"db/07-timeline-tweets-with-thresholding.csv\").USER.values.tolist(), results)),\n",
    "    columns = ['USER', 'RATING']\n",
    ")"
   ]
  },
  {
   "cell_type": "code",
   "execution_count": null,
   "id": "39bfb415",
   "metadata": {},
   "outputs": [],
   "source": [
    "# save dataframe\n",
    "final.to_csv(\"db/08-user-rating.csv\", index=False)"
   ]
  }
 ],
 "metadata": {
  "kernelspec": {
   "display_name": "tf_kernel",
   "language": "python",
   "name": "project"
  },
  "language_info": {
   "codemirror_mode": {
    "name": "ipython",
    "version": 3
   },
   "file_extension": ".py",
   "mimetype": "text/x-python",
   "name": "python",
   "nbconvert_exporter": "python",
   "pygments_lexer": "ipython3",
   "version": "3.7.10"
  }
 },
 "nbformat": 4,
 "nbformat_minor": 5
}

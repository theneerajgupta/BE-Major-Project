{
 "cells": [
  {
   "cell_type": "markdown",
   "id": "52506c30",
   "metadata": {},
   "source": [
    "# File 10: Classification Model to Improve Accuracy\n",
    "\n",
    "### Input Files:\n",
    "\n",
    "\n",
    "### Output Files:\n",
    " \n",
    "\n",
    "### Steps:\n",
    "1. load required libraries\n",
    "1. \n",
    "1. \n",
    "1. \n",
    "1. \n",
    "1. "
   ]
  },
  {
   "cell_type": "code",
   "execution_count": 123,
   "id": "9a07c06f",
   "metadata": {},
   "outputs": [],
   "source": [
    "# load required libraries\n",
    "import pandas as pd\n",
    "import sklearn as sk\n",
    "from sklearn import svm\n",
    "import numpy as np\n",
    "from tqdm import tqdm\n",
    "import matplotlib.pyplot as plt\n",
    "from sklearn.metrics import confusion_matrix\n",
    "from sklearn.model_selection import train_test_split"
   ]
  },
  {
   "cell_type": "code",
   "execution_count": 122,
   "id": "dfb6d679",
   "metadata": {
    "scrolled": true
   },
   "outputs": [],
   "source": [
    "# read predicted dataset\n",
    "df = pd.read_csv(\"db/09-main-prediction.csv\")\n",
    "df = df.sample(frac=1).reset_index(drop=True)\n",
    "X = df[['OUTPUT', 'RATING']].values.tolist()\n",
    "Y = df['SENTIMENT'].values.tolist()"
   ]
  },
  {
   "cell_type": "code",
   "execution_count": 130,
   "id": "bb56e961",
   "metadata": {},
   "outputs": [],
   "source": [
    "X_train, X_test, Y_train, Y_test = train_test_split(X, Y, test_size=0.2, random_state=42)"
   ]
  },
  {
   "cell_type": "code",
   "execution_count": 131,
   "id": "8ab72582",
   "metadata": {},
   "outputs": [],
   "source": [
    "from sklearn.neural_network import MLPClassifier"
   ]
  },
  {
   "cell_type": "code",
   "execution_count": 132,
   "id": "99b2432a",
   "metadata": {},
   "outputs": [],
   "source": [
    "NN = MLPClassifier(solver='lbfgs', alpha=1e-5, hidden_layer_sizes=(5, 2), random_state=1)"
   ]
  },
  {
   "cell_type": "code",
   "execution_count": 133,
   "id": "3bf4e0de",
   "metadata": {},
   "outputs": [
    {
     "data": {
      "text/plain": [
       "MLPClassifier(alpha=1e-05, hidden_layer_sizes=(5, 2), random_state=1,\n",
       "              solver='lbfgs')"
      ]
     },
     "execution_count": 133,
     "metadata": {},
     "output_type": "execute_result"
    }
   ],
   "source": [
    "NN.fit(X_train, Y_train)"
   ]
  },
  {
   "cell_type": "code",
   "execution_count": 140,
   "id": "8be14c76",
   "metadata": {},
   "outputs": [
    {
     "data": {
      "text/plain": [
       "list"
      ]
     },
     "execution_count": 140,
     "metadata": {},
     "output_type": "execute_result"
    }
   ],
   "source": [
    "type(list(NN.predict(X_test)))"
   ]
  },
  {
   "cell_type": "code",
   "execution_count": 139,
   "id": "8bcf061c",
   "metadata": {},
   "outputs": [
    {
     "data": {
      "text/plain": [
       "list"
      ]
     },
     "execution_count": 139,
     "metadata": {},
     "output_type": "execute_result"
    }
   ],
   "source": [
    "type(Y_test)"
   ]
  },
  {
   "cell_type": "code",
   "execution_count": 142,
   "id": "5309c613",
   "metadata": {},
   "outputs": [
    {
     "data": {
      "text/plain": [
       "array([[1909,  920],\n",
       "       [ 823, 2190]], dtype=int64)"
      ]
     },
     "execution_count": 142,
     "metadata": {},
     "output_type": "execute_result"
    }
   ],
   "source": [
    "confusion_matrix(Y, list(NN.predict(X)))"
   ]
  },
  {
   "cell_type": "code",
   "execution_count": 144,
   "id": "0192c05f",
   "metadata": {},
   "outputs": [
    {
     "data": {
      "text/plain": [
       "0.7016432728517631"
      ]
     },
     "execution_count": 144,
     "metadata": {},
     "output_type": "execute_result"
    }
   ],
   "source": [
    "(1909 + 2190) / len(X)"
   ]
  },
  {
   "cell_type": "code",
   "execution_count": null,
   "id": "15e273ee",
   "metadata": {},
   "outputs": [],
   "source": []
  }
 ],
 "metadata": {
  "kernelspec": {
   "display_name": "tf_kernel",
   "language": "python",
   "name": "project"
  },
  "language_info": {
   "codemirror_mode": {
    "name": "ipython",
    "version": 3
   },
   "file_extension": ".py",
   "mimetype": "text/x-python",
   "name": "python",
   "nbconvert_exporter": "python",
   "pygments_lexer": "ipython3",
   "version": "3.7.10"
  }
 },
 "nbformat": 4,
 "nbformat_minor": 5
}

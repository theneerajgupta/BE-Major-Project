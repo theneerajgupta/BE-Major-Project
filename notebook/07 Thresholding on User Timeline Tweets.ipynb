{
 "cells": [
  {
   "cell_type": "markdown",
   "id": "ead2d51c",
   "metadata": {},
   "source": [
    "# File 07: Applying Thresholding on User Timeline Tweets\n",
    "\n",
    "\n",
    "### Input Files :\n",
    "- model-sa/model-gpu.yaml\n",
    "- model-sa/model-weights-gpu.h5\n",
    "- model-sa/tokenizer.pickle\n",
    "- db/05-shortlisted-tweets.csv\n",
    "- db/05-shortlisted-usernames.csv\n",
    "\n",
    "### Output File:\n",
    "- db/07-timeline-tweets-with-thresholding.csv\n",
    "\n",
    "### Steps:\n",
    "1. loading required libraries\n",
    "1. loading model with weights\n",
    "1. loading the tokenizer\n",
    "1. loading timeline tweets\n",
    "1. creating \"X\" array \n",
    "1. using the model to pred sentiment of each tweet\n",
    "1. applying triple thresholding to avoid amibuity\n",
    "1. saving final dataframe"
   ]
  },
  {
   "cell_type": "code",
   "execution_count": 88,
   "id": "6cf3e073",
   "metadata": {},
   "outputs": [],
   "source": [
    "# loading required libraries\n",
    "import pickle\n",
    "import numpy as np\n",
    "import pandas as pd\n",
    "from tqdm import tqdm\n",
    "import tensorflow as tf\n",
    "from tqdm import tqdm\n",
    "import matplotlib.pyplot as plt\n",
    "from tensorflow.keras.models import load_model\n",
    "from keras.models import model_from_yaml\n",
    "from tensorflow.keras.preprocessing.text import Tokenizer\n",
    "from tensorflow.keras.preprocessing.sequence import pad_sequences\n",
    "\n",
    "physical_devices = tf.config.list_physical_devices('GPU')\n",
    "tf.config.experimental.set_memory_growth(physical_devices[0], True)"
   ]
  },
  {
   "cell_type": "code",
   "execution_count": 71,
   "id": "15fdc437",
   "metadata": {},
   "outputs": [
    {
     "name": "stderr",
     "output_type": "stream",
     "text": [
      "C:\\Users\\Artemis\\miniconda3\\envs\\project\\lib\\site-packages\\tensorflow_core\\python\\keras\\saving\\model_config.py:76: YAMLLoadWarning: calling yaml.load() without Loader=... is deprecated, as the default Loader is unsafe. Please read https://msg.pyyaml.org/load for full details.\n",
      "  config = yaml.load(yaml_string)\n"
     ]
    },
    {
     "name": "stdout",
     "output_type": "stream",
     "text": [
      "Model: \"sequential_2\"\n",
      "_________________________________________________________________\n",
      "Layer (type)                 Output Shape              Param #   \n",
      "=================================================================\n",
      "embedding_2 (Embedding)      (None, 48, 128)           512000    \n",
      "_________________________________________________________________\n",
      "spatial_dropout1d_4 (Spatial (None, 48, 128)           0         \n",
      "_________________________________________________________________\n",
      "cu_dnnlstm_2 (CuDNNLSTM)     (None, 48, 196)           255584    \n",
      "_________________________________________________________________\n",
      "spatial_dropout1d_5 (Spatial (None, 48, 196)           0         \n",
      "_________________________________________________________________\n",
      "cu_dnnlstm_3 (CuDNNLSTM)     (None, 196)               308896    \n",
      "_________________________________________________________________\n",
      "dense_2 (Dense)              (None, 2)                 394       \n",
      "=================================================================\n",
      "Total params: 1,076,874\n",
      "Trainable params: 1,076,874\n",
      "Non-trainable params: 0\n",
      "_________________________________________________________________\n"
     ]
    }
   ],
   "source": [
    "# loading model with weights\n",
    "def load_model(model, weight) :\n",
    "    with open(model, 'r') as file:\n",
    "        yaml_model = file.read()\n",
    "\n",
    "    model = tf.keras.models.model_from_yaml(yaml_model)\n",
    "    model.compile(loss='categorical_crossentropy', optimizer='adam', metrics=['accuracy'])\n",
    "    model.load_weights(weight)\n",
    "\n",
    "    return model\n",
    "\n",
    "model = load_model('sentiment-analysis-model/model-gpu.yaml', 'sentiment-analysis-model/weights-gpu.h5')\n",
    "model.summary()"
   ]
  },
  {
   "cell_type": "code",
   "execution_count": 132,
   "id": "918fa170",
   "metadata": {},
   "outputs": [],
   "source": [
    "# loading the tokenizer\n",
    "with open('sentiment-analysis-model/tokenizer.pickle', 'rb') as handle:\n",
    "    tokenizer = pickle.load(handle)"
   ]
  },
  {
   "cell_type": "code",
   "execution_count": 133,
   "id": "d596fb0e",
   "metadata": {},
   "outputs": [],
   "source": [
    "# loading timeline tweets\n",
    "df = pd.read_csv(\"db/05-shortlisted-tweets.csv\")"
   ]
  },
  {
   "cell_type": "code",
   "execution_count": 134,
   "id": "0b1dd116",
   "metadata": {},
   "outputs": [],
   "source": [
    "# creating \"X\" array \n",
    "df.TWEET = df.TWEET.astype(str)\n",
    "X = tokenizer.texts_to_sequences(df['TWEET'].values)\n",
    "X = pad_sequences(X, 48)"
   ]
  },
  {
   "cell_type": "code",
   "execution_count": 135,
   "id": "b7df271d",
   "metadata": {},
   "outputs": [],
   "source": [
    "# using the model to pred sentiment of each tweet\n",
    "pred = model.predict(X)\n",
    "polarity = model.predict_classes(X)\n",
    "prediction = []\n",
    "for value in tqdm(pred) :\n",
    "    prediction.append(value[1])"
   ]
  },
  {
   "cell_type": "code",
   "execution_count": 142,
   "id": "45c447ba",
   "metadata": {},
   "outputs": [],
   "source": [
    "# applying thresholding\n",
    "thresh = []\n",
    "for value in tqdm(prediction) :\n",
    "    if value < 0.25 :\n",
    "        thresh.append(0)\n",
    "    elif value < 0.5 :\n",
    "        thresh.append(1)\n",
    "    elif value < 0.75 :\n",
    "        thresh.append(2)\n",
    "    elif value <= 1 :\n",
    "        thresh.append(3)"
   ]
  },
  {
   "cell_type": "code",
   "execution_count": null,
   "id": "ac7ad1a1",
   "metadata": {},
   "outputs": [],
   "source": [
    "# saving results\n",
    "final = pd.DataFrame(\n",
    "    list(zip( df.USER.values.tolist(), df.TWEET.values.tolist(), df.ORIGINAL.values.tolist(), prediction, polarity, thresh )),\n",
    "    columns = [ 'USER', 'TWEET', 'ORIGINAL', 'PREDICTION', 'SENTIMENT', 'THRESHOLD' ]\n",
    ")\n",
    "final.to_csv('db/07-timeline-tweets-with-thresholding.csv', index=False)"
   ]
  }
 ],
 "metadata": {
  "kernelspec": {
   "display_name": "Major Project",
   "language": "python",
   "name": "project"
  },
  "language_info": {
   "codemirror_mode": {
    "name": "ipython",
    "version": 3
   },
   "file_extension": ".py",
   "mimetype": "text/x-python",
   "name": "python",
   "nbconvert_exporter": "python",
   "pygments_lexer": "ipython3",
   "version": "3.7.10"
  }
 },
 "nbformat": 4,
 "nbformat_minor": 5
}

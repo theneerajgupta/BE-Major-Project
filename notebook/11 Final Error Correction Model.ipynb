{
 "cells": [
  {
   "cell_type": "markdown",
   "id": "ec6e1541",
   "metadata": {},
   "source": [
    "# File 11: Final Error Correction Model\n",
    "\n",
    "### Input Files:\n",
    "- 09-phase-1-prediction.csv\n",
    "- 10-positive-word-score.csv\n",
    "- 10-negative-word-score.csv\n",
    "\n",
    "### Output Files:\n",
    "\n",
    "\n",
    "### Steps:\n",
    "1. loading required libraries\n",
    "1. loading required dataframes\n",
    "1. making a dictionary of word-value pairs\n",
    "1. calculate sentence score\n",
    "1. creating a dataset\n",
    "1. create X and Y to train model\n",
    "1. splitting dataset for training and testing\n",
    "1. training model\n",
    "1. saving model"
   ]
  },
  {
   "cell_type": "code",
   "execution_count": 1,
   "id": "3088d065",
   "metadata": {},
   "outputs": [],
   "source": [
    "# loading required libraries\n",
    "import pandas as pd\n",
    "from sklearn.svm import SVC\n",
    "from sklearn.model_selection import train_test_split\n",
    "from sklearn.metrics import confusion_matrix, accuracy_score\n",
    "from joblib import dump, load"
   ]
  },
  {
   "cell_type": "code",
   "execution_count": 4,
   "id": "f09c632d",
   "metadata": {},
   "outputs": [],
   "source": [
    "# loading required dataframes\n",
    "df = pd.read_csv(\"../db/09-phase-1-prediction.csv\")\n",
    "pos = pd.read_csv(\"../db/10-positive-word-score.csv\")\n",
    "neg = pd.read_csv(\"../db/10-negative-word-score.csv\")\n",
    "df.TEXT = df.TEXT.astype('str')"
   ]
  },
  {
   "cell_type": "code",
   "execution_count": 5,
   "id": "5233eba3",
   "metadata": {},
   "outputs": [],
   "source": [
    "# making a dictionary of word-value pairs\n",
    "lst = pos.values.tolist()\n",
    "for row in neg.values.tolist() :\n",
    "    lst.append(row)\n",
    "    \n",
    "dictionary = dict(lst)"
   ]
  },
  {
   "cell_type": "code",
   "execution_count": 6,
   "id": "4ac764a1",
   "metadata": {},
   "outputs": [],
   "source": [
    "# calculate sentence score\n",
    "score = []\n",
    "\n",
    "for x in range(len(df)) :\n",
    "    text = df.TEXT[x]\n",
    "    array = []\n",
    "    for word in text.split() :\n",
    "        if word in dictionary :\n",
    "            array.append(dictionary[word] * 10)\n",
    "        else :\n",
    "            array.append(0)\n",
    "    \n",
    "    total = sum(array)        \n",
    "    score.append(0 if total<0 else 1)"
   ]
  },
  {
   "cell_type": "code",
   "execution_count": 7,
   "id": "36817a17",
   "metadata": {},
   "outputs": [],
   "source": [
    "# creating a dataset\n",
    "dataset = pd.DataFrame(\n",
    "    list(zip(\n",
    "        range(len(df)),\n",
    "        df.USER.values.tolist(),\n",
    "        df.ORIGINAL.values.tolist(),\n",
    "        df.TEXT.values.tolist(),\n",
    "        df.RATING.values.tolist(),\n",
    "        df.OUTPUT.values.tolist(),\n",
    "        df.SENTIMENT.values.tolist(),\n",
    "        df.PRED1.values.tolist(),\n",
    "        score)),\n",
    "    columns = [ 'INDEX', 'USER', 'ORIGINAL', 'TEXT', 'RATING', 'OUTPUT', 'SENTIMENT', 'PRED1', 'SENT_SCORE'],\n",
    ")\n",
    "dataset.to_csv('../db/11-final-table.csv', index=False)"
   ]
  },
  {
   "cell_type": "code",
   "execution_count": 8,
   "id": "9c01e1e6",
   "metadata": {},
   "outputs": [],
   "source": [
    "# create X and Y to train model\n",
    "dataset = dataset[['RATING', 'OUTPUT', 'SENT_SCORE', 'PRED1', 'SENTIMENT']]\n",
    "X = dataset[['OUTPUT', 'RATING', 'SENT_SCORE']]\n",
    "Y = dataset['SENTIMENT']"
   ]
  },
  {
   "cell_type": "code",
   "execution_count": 10,
   "id": "d3d6ce66",
   "metadata": {},
   "outputs": [],
   "source": [
    "# splitting dataset for training and testing\n",
    "X_train, X_test, Y_train, Y_test = train_test_split(X, Y, test_size=0.2)"
   ]
  },
  {
   "cell_type": "code",
   "execution_count": null,
   "id": "bbe256de",
   "metadata": {},
   "outputs": [],
   "source": [
    "# training model\n",
    "clf = SVC()\n",
    "clf.fit(X_train, Y_train)\n",
    "pred = clf.predict(X_test)"
   ]
  },
  {
   "cell_type": "code",
   "execution_count": null,
   "id": "cab871d3",
   "metadata": {},
   "outputs": [],
   "source": [
    "# saving model\n",
    "accuracy_score(Y_test, pred)*100\n",
    "dump(clf1, '../classification-model/clf)"
   ]
  }
 ],
 "metadata": {
  "kernelspec": {
   "display_name": "Major Project",
   "language": "python",
   "name": "project"
  },
  "language_info": {
   "codemirror_mode": {
    "name": "ipython",
    "version": 3
   },
   "file_extension": ".py",
   "mimetype": "text/x-python",
   "name": "python",
   "nbconvert_exporter": "python",
   "pygments_lexer": "ipython3",
   "version": "3.7.10"
  }
 },
 "nbformat": 4,
 "nbformat_minor": 5
}

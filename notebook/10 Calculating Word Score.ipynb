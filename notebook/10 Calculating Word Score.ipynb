{
 "cells": [
  {
   "cell_type": "markdown",
   "id": "52506c30",
   "metadata": {},
   "source": [
    "# File 10: Classification Model to Improve Accuracy\n",
    "\n",
    "### Input Files:\n",
    "- 04-train-data.csv\n",
    "\n",
    "### Output Files:\n",
    " - 10-positive-word-score.csv\n",
    " - 10-negative-word-score.csv\n",
    "\n",
    "### Steps:\n",
    "1. loading required python libraries\n",
    "1. loading training datase\n",
    "1. seperating positive and negative labelled tweets\n",
    "1. creating counters\n",
    "1. counting the number of postive words\n",
    "1. counting the number of negative words\n",
    "1. calculating postive/negative ratio\n",
    "1. seperating positive and negative words\n",
    "1. normalizing score\n",
    "1. saving datasets"
   ]
  },
  {
   "cell_type": "code",
   "execution_count": null,
   "id": "79be2b7e",
   "metadata": {},
   "outputs": [],
   "source": [
    "# loading required python libraries\n",
    "import nltk\n",
    "from collections import Counter"
   ]
  },
  {
   "cell_type": "code",
   "execution_count": null,
   "id": "8e94cfb2",
   "metadata": {},
   "outputs": [],
   "source": [
    "# loading training datase\n",
    "df = pd.read_csv(\"../db/04-train-data.csv\")\n",
    "df = df[['SENTIMENT', 'TEXT']]\n",
    "df.TEXT = df.TEXT.astype('str')"
   ]
  },
  {
   "cell_type": "code",
   "execution_count": null,
   "id": "a6e3ad2c",
   "metadata": {},
   "outputs": [],
   "source": [
    "# seperating positive and negative labelled tweets\n",
    "pos = df.loc[df.SENTIMENT == 1].TEXT.values.tolist()\n",
    "neg = df.loc[df.SENTIMENT == 0].TEXT.values.tolist()"
   ]
  },
  {
   "cell_type": "code",
   "execution_count": null,
   "id": "627c27eb",
   "metadata": {},
   "outputs": [],
   "source": [
    "# creating counters\n",
    "pos_counts = Counter()\n",
    "neg_counts = Counter()\n",
    "total_counts = Counter()"
   ]
  },
  {
   "cell_type": "code",
   "execution_count": null,
   "id": "189dc28a",
   "metadata": {},
   "outputs": [],
   "source": [
    "# counting the number of postive words\n",
    "for i in range(len(pos)):\n",
    "    for word in pos[i].lower().split(\" \"):\n",
    "        pos_counts[word]+=1\n",
    "        total_counts[word]+=1"
   ]
  },
  {
   "cell_type": "code",
   "execution_count": null,
   "id": "f5d36131",
   "metadata": {},
   "outputs": [],
   "source": [
    "# counting the number of negative words\n",
    "for i in range(len(neg)):\n",
    "    for word in neg[i].lower().split(\" \"):\n",
    "        neg_counts[word]+=1\n",
    "        total_counts[word]+=1"
   ]
  },
  {
   "cell_type": "code",
   "execution_count": null,
   "id": "0148e8b5",
   "metadata": {},
   "outputs": [],
   "source": [
    "# calculating postive/negative ratio\n",
    "pos_neg_score = Counter()\n",
    "for term,cnt in list(total_counts.most_common()):\n",
    "    if(cnt > 100):\n",
    "        pos_neg_ratio = pos_counts[term] / float(neg_counts[term] + 1)\n",
    "        pos_neg_score[term] = pos_neg_ratio"
   ]
  },
  {
   "cell_type": "code",
   "execution_count": null,
   "id": "868d9d9c",
   "metadata": {},
   "outputs": [],
   "source": [
    "# seperating positive and negative words\n",
    "pnscore_list = pos_neg_score.most_common()\n",
    "pnscore = pd.DataFrame(pnscore_list, columns = ['WORD', 'SCORE']) \n",
    "pnscore = pnscore.loc[pnscore.SCORE < 30]\n",
    "pscore = pnscore[:4000].reset_index(drop=True)\n",
    "nscore = pnscore[4000:].reset_index(drop=True)"
   ]
  },
  {
   "cell_type": "code",
   "execution_count": null,
   "id": "eb71334b",
   "metadata": {},
   "outputs": [],
   "source": [
    "# normalizing score\n",
    "minimum = min(pscore.SCORE.values.tolist())\n",
    "maximum = max(pscore.SCORE.values.tolist())\n",
    "words = pscore.WORD.values.tolist()\n",
    "score = pscore.SCORE.values.tolist()\n",
    "new_score = []\n",
    "for value in score :\n",
    "    new_score.append((value - minimum)/(maximum - minimum))\n",
    "        \n",
    "pscore = pd.DataFrame(list(zip(words, new_score)), columns=['WORDS', 'SCORE'])\n",
    "\n",
    "minimum = min(nscore.SCORE.values.tolist())\n",
    "maximum = max(nscore.SCORE.values.tolist())\n",
    "words = nscore.WORD.values.tolist()\n",
    "score = nscore.SCORE.values.tolist()\n",
    "new_score = []\n",
    "for value in score :\n",
    "    new_value = float(-(1 - ((value - minimum)/(maximum - minimum))))\n",
    "    new_score.append(new_value)\n",
    "        \n",
    "nscore = pd.DataFrame(list(zip(words, new_score)), columns=['WORDS', 'SCORE'])"
   ]
  },
  {
   "cell_type": "code",
   "execution_count": null,
   "id": "f716d98a",
   "metadata": {},
   "outputs": [],
   "source": [
    "# saving datasets\n",
    "pscore.to_csv('../db/10-positive-word-score.csv', index=False)\n",
    "nscore.to_csv('../db/10-negative-word-score.csv', index=False)"
   ]
  }
 ],
 "metadata": {
  "kernelspec": {
   "display_name": "Major Project",
   "language": "python",
   "name": "project"
  },
  "language_info": {
   "codemirror_mode": {
    "name": "ipython",
    "version": 3
   },
   "file_extension": ".py",
   "mimetype": "text/x-python",
   "name": "python",
   "nbconvert_exporter": "python",
   "pygments_lexer": "ipython3",
   "version": "3.7.10"
  }
 },
 "nbformat": 4,
 "nbformat_minor": 5
}

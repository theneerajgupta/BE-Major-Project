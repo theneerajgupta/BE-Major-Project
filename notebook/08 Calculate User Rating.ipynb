{
 "cells": [
  {
   "cell_type": "markdown",
   "id": "c87962bf",
   "metadata": {},
   "source": [
    "# FIle 08: Calculating User Rating\n",
    "\n",
    "### Input Files:\n",
    "- db/07-timeline-tweets-with-thresholding.csv\n",
    "\n",
    "### Output Files:\n",
    "- db/08-user-rating.csv\n",
    "\n",
    "### Steps:\n",
    "1. import required libraries\n",
    "1. loading preprocessed dataset\n",
    "1. make of list all the index for each tweet for each user\n",
    "1. create function to rate the user\n",
    "1. caluclate user rating\n",
    "1. create dataframe\n",
    "1. save dataframe"
   ]
  },
  {
   "cell_type": "code",
   "execution_count": 1,
   "id": "fffcbeb8",
   "metadata": {},
   "outputs": [],
   "source": [
    "# import required libraries\n",
    "import numpy as np\n",
    "import pandas as pd\n",
    "from tqdm import tqdm"
   ]
  },
  {
   "cell_type": "code",
   "execution_count": 3,
   "id": "2663ca2d",
   "metadata": {},
   "outputs": [],
   "source": [
    "# loading preprocessed dataset...\n",
    "df = pd.read_csv(\"../db/07-timeline-tweets-with-thresholding.csv\")\n",
    "username = list(set(df.USER.tolist()))"
   ]
  },
  {
   "cell_type": "code",
   "execution_count": 19,
   "id": "c3a44d63",
   "metadata": {},
   "outputs": [],
   "source": [
    "# make of list all the index for each tweet for each user\n",
    "rows = []\n",
    "for name in tqdm(username) :\n",
    "    rows.append(df.loc[df['USER'] == name].index)"
   ]
  },
  {
   "cell_type": "code",
   "execution_count": 80,
   "id": "06396702",
   "metadata": {},
   "outputs": [],
   "source": [
    "# create function to rate the user\n",
    "def calculate_rating(index) :\n",
    "    index = rows[index]\n",
    "    thresh = []\n",
    "    for x in index :\n",
    "        thresh.append(df['THRESHOLD'][x])\n",
    "\n",
    "    calc = (thresh.count(3) - thresh.count(0))\n",
    "    return 0 if calc < 0 else 1"
   ]
  },
  {
   "cell_type": "code",
   "execution_count": 81,
   "id": "10d65c02",
   "metadata": {},
   "outputs": [],
   "source": [
    "# caluclate user rating\n",
    "rating = []\n",
    "for x in tqdm(range(len(username))) :\n",
    "    rating.append(calculate_rating(x))"
   ]
  },
  {
   "cell_type": "code",
   "execution_count": 83,
   "id": "443e59e5",
   "metadata": {},
   "outputs": [],
   "source": [
    "# create dataframe\n",
    "final = pd.DataFrame(\n",
    "    list(zip(username, rating)),\n",
    "    columns =['USER', 'RATING']\n",
    ")"
   ]
  },
  {
   "cell_type": "code",
   "execution_count": null,
   "id": "39bfb415",
   "metadata": {},
   "outputs": [],
   "source": [
    "# save dataframe\n",
    "final.to_csv(\"../db/08-user-rating.csv\", index=False)"
   ]
  }
 ],
 "metadata": {
  "kernelspec": {
   "display_name": "Major Project",
   "language": "python",
   "name": "project"
  },
  "language_info": {
   "codemirror_mode": {
    "name": "ipython",
    "version": 3
   },
   "file_extension": ".py",
   "mimetype": "text/x-python",
   "name": "python",
   "nbconvert_exporter": "python",
   "pygments_lexer": "ipython3",
   "version": "3.7.10"
  }
 },
 "nbformat": 4,
 "nbformat_minor": 5
}
